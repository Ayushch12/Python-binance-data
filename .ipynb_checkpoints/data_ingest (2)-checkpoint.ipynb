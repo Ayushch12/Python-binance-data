{
 "cells": [
  {
   "cell_type": "markdown",
   "metadata": {},
   "source": [
    "# TP ingestion de données"
   ]
  },
  {
   "cell_type": "markdown",
   "metadata": {},
   "source": [
    "Nous allons, au travers de ces exercices, explorer différentes méthodes d'acquisition de données."
   ]
  },
  {
   "cell_type": "code",
   "execution_count": null,
   "metadata": {},
   "outputs": [],
   "source": []
  },
  {
   "cell_type": "markdown",
   "metadata": {},
   "source": [
    "## API"
   ]
  },
  {
   "cell_type": "markdown",
   "metadata": {},
   "source": [
    "\n",
    "- Envoyer une requête à l'API de Binance.     \n",
    "- Extraire les données reçues.\n",
    "- Parcourir le JSON pour extraire les données (symbole, prix d'achat, prix de vente).\n",
    "- Utiliser csv ou pandas pour écrire ces données dans un fichier CSV."
   ]
  },
  {
   "cell_type": "code",
   "execution_count": 8,
   "metadata": {},
   "outputs": [],
   "source": [
    "Url = \"https://api.binance.com/api/v3/ticker/bookTicker\"   "
   ]
  },
  {
   "cell_type": "code",
   "execution_count": 1,
   "metadata": {},
   "outputs": [
    {
     "name": "stdout",
     "output_type": "stream",
     "text": [
      "Data extracted and saved to binance_data.csv\n"
     ]
    }
   ],
   "source": [
    "import requests\n",
    "import pandas as pd\n",
    "\n",
    "url = \"https://api.binance.com/api/v3/ticker/bookTicker\"\n",
    "\n",
    "# Send a request to the Binance API\n",
    "response = requests.get(url)\n",
    "\n",
    "# Check if the request was successful (status code 200)\n",
    "if response.status_code == 200:\n",
    "    # Extract data from the JSON response\n",
    "    data = response.json()\n",
    "\n",
    "    # Create a list to store the extracted data\n",
    "    extracted_data = []\n",
    "\n",
    "    # Extract relevant information (symbol, buy price, sell price) from the JSON data\n",
    "    for item in data:\n",
    "        symbol = item[\"symbol\"]\n",
    "        buy_price = item[\"bidPrice\"]\n",
    "        sell_price = item[\"askPrice\"]\n",
    "\n",
    "        # Append the extracted data to the list\n",
    "        extracted_data.append({\n",
    "            \"Symbol\": symbol,\n",
    "            \"BuyPrice\": buy_price,\n",
    "            \"SellPrice\": sell_price\n",
    "        })\n",
    "\n",
    "    # Convert the list to a pandas DataFrame\n",
    "    df = pd.DataFrame(extracted_data)\n",
    "\n",
    "    # Write the DataFrame to a CSV file\n",
    "    df.to_csv(\"binance_data.csv\", index=False)\n",
    "\n",
    "    print(\"Data extracted and saved to binance_data.csv\")\n",
    "else:\n",
    "    print(f\"Error: {response.status_code}\")"
   ]
  },
  {
   "cell_type": "code",
   "execution_count": null,
   "metadata": {},
   "outputs": [],
   "source": []
  },
  {
   "cell_type": "markdown",
   "metadata": {},
   "source": [
    "- creer une fonction qui retourne le status de la requetes et l 'url créer\n",
    "- ajouter un argument payload a la fonction pour ne recuperer que les valeurs correspondant a un symbol"
   ]
  },
  {
   "cell_type": "code",
   "execution_count": null,
   "metadata": {},
   "outputs": [],
   "source": []
  },
  {
   "cell_type": "code",
   "execution_count": null,
   "metadata": {},
   "outputs": [],
   "source": []
  },
  {
   "cell_type": "markdown",
   "metadata": {},
   "source": [
    "- vous allez utiliser l'API publique \"JSONPlaceholder\", une API de test gratuite qui fournit des données JSON simulées. \n",
    "- L'objectif est de récupérer des données d'articles (posts) depuis cette API et de les enregistrer dans un fichier CSV."
   ]
  },
  {
   "cell_type": "code",
   "execution_count": null,
   "metadata": {},
   "outputs": [],
   "source": [
    "url = \"https://jsonplaceholder.typicode.com/posts\""
   ]
  },
  {
   "cell_type": "code",
   "execution_count": null,
   "metadata": {},
   "outputs": [],
   "source": []
  },
  {
   "cell_type": "code",
   "execution_count": null,
   "metadata": {},
   "outputs": [],
   "source": []
  },
  {
   "cell_type": "code",
   "execution_count": null,
   "metadata": {},
   "outputs": [],
   "source": []
  },
  {
   "cell_type": "markdown",
   "metadata": {},
   "source": [
    "## Selenium : Mets ton navigateur en mode automatique"
   ]
  },
  {
   "cell_type": "markdown",
   "metadata": {},
   "source": [
    "La doc : https://selenium-python.readthedocs.io/navigating.html<br>\n",
    "moins complète mais plus propre : http://akul.me/blog/2016/selenium-cheatsheet/ <br>\n",
    "Cheatsheet : http://allselenium.info/python-selenium-commands-cheat-sheet-frequently-used/<br>\n",
    "xpath Cheatsheet : https://devhints.io/xpath<br>\n"
   ]
  },
  {
   "cell_type": "code",
   "execution_count": null,
   "metadata": {},
   "outputs": [],
   "source": []
  },
  {
   "cell_type": "code",
   "execution_count": null,
   "metadata": {},
   "outputs": [],
   "source": []
  },
  {
   "cell_type": "markdown",
   "metadata": {},
   "source": [
    "### Installation "
   ]
  },
  {
   "cell_type": "markdown",
   "metadata": {},
   "source": [
    "Avec Anaconda : ouvrir anaconda prompt et executer : \"conda install -c conda-forge selenium\" \\\n",
    "Avec le gestionnaire de package pip:  pip install selenium\n",
    "\n",
    "Télécharger webdriver: https://chromedriver.chromium.org/downloads . \\\n",
    "Rangez-le dans un dossier et rajoutez le path du fichier chromedriver.exe dans vos variables d'environnement système (puis redémarrer)."
   ]
  },
  {
   "cell_type": "code",
   "execution_count": 43,
   "metadata": {},
   "outputs": [],
   "source": [
    "# !pip install selenium\n",
    "# !pip3 install webdriver-manager"
   ]
  },
  {
   "cell_type": "code",
   "execution_count": 1,
   "metadata": {},
   "outputs": [],
   "source": [
    "import time\n",
    "from selenium import webdriver \n",
    "from selenium.webdriver.common.keys import Keys\n",
    "from selenium.webdriver.common.by import By\n",
    "#import pandas as pd"
   ]
  },
  {
   "cell_type": "markdown",
   "metadata": {},
   "source": [
    "### Connexion"
   ]
  },
  {
   "cell_type": "code",
   "execution_count": 2,
   "metadata": {},
   "outputs": [],
   "source": [
    "from selenium import webdriver\n",
    "from selenium.webdriver.chrome.service import Service\n",
    "from webdriver_manager.chrome import ChromeDriverManager\n",
    "\n",
    "browser = webdriver.Chrome(service=Service(ChromeDriverManager().install()))\n",
    "browser.get('https://www.zalando.fr/')"
   ]
  },
  {
   "cell_type": "code",
   "execution_count": 3,
   "metadata": {},
   "outputs": [],
   "source": [
    "#vous pouvez trouver quelque methodes interessantes\n",
    "\n",
    "#page precedentes : browser.back()\n",
    "#fermer le navigateur : browser.close()\n",
    "#parametrer le temps maximun d attentes pour qu'un element s'affiche : browser.implicitly_wait()\n",
    "#..."
   ]
  },
  {
   "cell_type": "code",
   "execution_count": 4,
   "metadata": {},
   "outputs": [],
   "source": [
    "\n",
    "time.sleep(3)"
   ]
  },
  {
   "cell_type": "markdown",
   "metadata": {},
   "source": [
    "### Commandes principales"
   ]
  },
  {
   "cell_type": "markdown",
   "metadata": {},
   "source": [
    "##### Agrandir la fenêtre"
   ]
  },
  {
   "cell_type": "code",
   "execution_count": 5,
   "metadata": {},
   "outputs": [],
   "source": [
    "\n",
    "browser.maximize_window()\n",
    "time.sleep(2)"
   ]
  },
  {
   "cell_type": "markdown",
   "metadata": {},
   "source": [
    "##### Récupérer un élément et cliquer dessus"
   ]
  },
  {
   "cell_type": "code",
   "execution_count": 49,
   "metadata": {},
   "outputs": [],
   "source": [
    "#driver.find_element(By.XPATH, '//button[text()=\"Some text\"]')"
   ]
  },
  {
   "cell_type": "code",
   "execution_count": 50,
   "metadata": {},
   "outputs": [],
   "source": [
    "# Banniere \n",
    "cookies = browser.find_element(By.XPATH,'//*[@id=\"uc-btn-accept-banner\"]')\n",
    "cookies.click()\n",
    "time.sleep(3)"
   ]
  },
  {
   "cell_type": "code",
   "execution_count": 51,
   "metadata": {},
   "outputs": [],
   "source": [
    "# femme menu\n",
    "femme = browser.find_element(By.XPATH,'/html/body/div[4]/div/x-wrapper-re-1-5/div/div/div[1]/div/div/div/div[1]/nav/ul/li[1]/span/a/span')\n",
    "femme.click()\n",
    "time.sleep(1)\n"
   ]
  },
  {
   "cell_type": "code",
   "execution_count": 52,
   "metadata": {},
   "outputs": [],
   "source": [
    "chaussures = browser.find_element(By.XPATH,'/html/body/div[4]/div/x-wrapper-pre-shell/x-wrapper-re-1-10/div/div/div[2]/div[1]/div/div[1]/div/div/ul/li[4]/span/a/span',)\n",
    "chaussures.click()\n",
    "time.sleep(1)"
   ]
  },
  {
   "cell_type": "code",
   "execution_count": 53,
   "metadata": {},
   "outputs": [],
   "source": [
    "sneakers = browser.find_element(By.XPATH,\"/html/body/div[4]/div/div/div/div[7]/div/div[1]/div/ul/li/ul/li[1]/a/span\")\n",
    "sneakers.click()\n",
    "time.sleep(2)"
   ]
  },
  {
   "cell_type": "markdown",
   "metadata": {},
   "source": [
    "##### Récupérer une liste d'éléments"
   ]
  },
  {
   "cell_type": "code",
   "execution_count": 54,
   "metadata": {},
   "outputs": [],
   "source": [
    "articles = browser.find_elements(By.TAG_NAME,'article')"
   ]
  },
  {
   "cell_type": "code",
   "execution_count": 55,
   "metadata": {},
   "outputs": [],
   "source": [
    "articles[0].click()"
   ]
  },
  {
   "cell_type": "markdown",
   "metadata": {},
   "source": [
    "##### Récupérer le texte d'un élément"
   ]
  },
  {
   "cell_type": "code",
   "execution_count": 56,
   "metadata": {},
   "outputs": [
    {
     "name": "stdout",
     "output_type": "stream",
     "text": [
      "adidas Originals\n"
     ]
    }
   ],
   "source": [
    "time.sleep(2)\n",
    "marque = browser.find_element(By.XPATH,'//*[@id=\"main-content\"]/div[1]/div/div[2]/x-wrapper-re-1-4/div[1]/a/span/h3')\n",
    "print(marque.text)"
   ]
  },
  {
   "cell_type": "markdown",
   "metadata": {},
   "source": [
    " ##### Intéragir avec les barres de recherches"
   ]
  },
  {
   "cell_type": "code",
   "execution_count": 57,
   "metadata": {},
   "outputs": [],
   "source": [
    "recherche = browser.find_element(By.XPATH,'//*[@id=\"header-search-input\"]')\n",
    "recherche.send_keys('chaussures femme')\n",
    "time.sleep(6)"
   ]
  },
  {
   "cell_type": "code",
   "execution_count": 58,
   "metadata": {},
   "outputs": [],
   "source": [
    "recherche.send_keys(Keys.ENTER)\n",
    "time.sleep(3)"
   ]
  },
  {
   "cell_type": "code",
   "execution_count": 59,
   "metadata": {},
   "outputs": [],
   "source": [
    "#browser.back() # pages precedentes\n",
    "browser.close() # fermer le navigateur"
   ]
  },
  {
   "cell_type": "markdown",
   "metadata": {},
   "source": [
    "### Exercice \n",
    "\n",
    "Scrappez la marque, le modèle et le prix d'une série d'articles de votre choix pour en faire un csv"
   ]
  },
  {
   "cell_type": "code",
   "execution_count": null,
   "metadata": {},
   "outputs": [],
   "source": []
  },
  {
   "cell_type": "code",
   "execution_count": null,
   "metadata": {},
   "outputs": [],
   "source": []
  }
 ],
 "metadata": {
  "kernelspec": {
   "display_name": "Python 3 (ipykernel)",
   "language": "python",
   "name": "python3"
  },
  "language_info": {
   "codemirror_mode": {
    "name": "ipython",
    "version": 3
   },
   "file_extension": ".py",
   "mimetype": "text/x-python",
   "name": "python",
   "nbconvert_exporter": "python",
   "pygments_lexer": "ipython3",
   "version": "3.11.5"
  },
  "varInspector": {
   "cols": {
    "lenName": 16,
    "lenType": 16,
    "lenVar": 40
   },
   "kernels_config": {
    "python": {
     "delete_cmd_postfix": "",
     "delete_cmd_prefix": "del ",
     "library": "var_list.py",
     "varRefreshCmd": "print(var_dic_list())"
    },
    "r": {
     "delete_cmd_postfix": ") ",
     "delete_cmd_prefix": "rm(",
     "library": "var_list.r",
     "varRefreshCmd": "cat(var_dic_list()) "
    }
   },
   "types_to_exclude": [
    "module",
    "function",
    "builtin_function_or_method",
    "instance",
    "_Feature"
   ],
   "window_display": false
  }
 },
 "nbformat": 4,
 "nbformat_minor": 2
}
